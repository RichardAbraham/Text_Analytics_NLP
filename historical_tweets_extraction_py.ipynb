{
 "cells": [
  {
   "cell_type": "markdown",
   "metadata": {},
   "source": [
    "## Text Analytics using NLP - Stan Lee (Web Scrapping - Twitter)\n",
    "*Richard Abraham*"
   ]
  },
  {
   "cell_type": "markdown",
   "metadata": {},
   "source": [
    "Using Twitter's rest API to extract relevant historical tweets\n",
    "\n",
    "**Note:** Twitter limits the maximum age of searchable tweets to roughly a week. As such, the script can search for tweets posted up to just over a week ago. Twitter also limits the maximum number of tweets downloaded in every 15 minute interval."
   ]
  },
  {
   "cell_type": "code",
   "execution_count": null,
   "metadata": {},
   "outputs": [],
   "source": [
    "# Like before, in order to use this script you should register a data-mining application\n",
    "# with Twitter. (Please follow the link in the 'README.md' file)\n",
    "\n",
    "# After doing this you can copy and paste your unique consumer key,\n",
    "# consumer secret, access token, and access secret into the load_api()\n",
    "# function below."
   ]
  },
  {
   "cell_type": "code",
   "execution_count": null,
   "metadata": {},
   "outputs": [],
   "source": [
    "# Importing the relevant libraries\n",
    "import tweepy\n",
    "from tweepy import OAuthHandler\n",
    "import json\n",
    "import datetime as dt\n",
    "import time\n",
    "import os\n",
    "import sys"
   ]
  },
  {
   "cell_type": "markdown",
   "metadata": {},
   "source": [
    "Before running the script, go to the main() function and edit the search criteria. Namely, enter the specifc search phrase/s\n",
    "\n",
    "['Stan Lee','StanLee','Stanley Martin Lieber']"
   ]
  },
  {
   "cell_type": "code",
   "execution_count": null,
   "metadata": {},
   "outputs": [],
   "source": [
    "def load_api():\n",
    "    ''' Function that loads the twitter API after authorizing the user. '''\n",
    "\n",
    "    access_token = \"1058460595823898624-.......\"\n",
    "    access_token_secret = \"1WEXnY90QqgojwwjWyHIx-.......\"\n",
    "    consumer_key = \"hjyl9h70XUVH2-.......\"\n",
    "    consumer_secret = \"UPdbm6nMcgqPSXifM7wer-.......\"\n",
    "    auth = OAuthHandler(consumer_key, consumer_secret)\n",
    "    auth.set_access_token(access_token, access_secret)\n",
    "    # load the twitter API via tweepy\n",
    "    return tweepy.API(auth)"
   ]
  },
  {
   "cell_type": "code",
   "execution_count": null,
   "metadata": {},
   "outputs": [],
   "source": [
    "def tweet_search(api, query, max_tweets, max_id, since_id, geocode):\n",
    "    ''' Function that takes in a search string 'query', the maximum\n",
    "        number of tweets 'max_tweets', and the minimum (i.e., starting)\n",
    "        tweet id. It returns a list of tweepy.models.Status objects. '''\n",
    "\n",
    "    searched_tweets = []\n",
    "    while len(searched_tweets) < max_tweets:\n",
    "        remaining_tweets = max_tweets - len(searched_tweets)\n",
    "        try:\n",
    "            new_tweets = api.search(q=query, count=remaining_tweets,\n",
    "                                    since_id=str(since_id),\n",
    "                                    max_id=str(max_id-1))\n",
    "#                                    geocode=geocode)\n",
    "            print('found',len(new_tweets),'tweets')\n",
    "            if not new_tweets:\n",
    "                print('no tweets found')\n",
    "                break\n",
    "            searched_tweets.extend(new_tweets)\n",
    "            max_id = new_tweets[-1].id\n",
    "        except tweepy.TweepError:\n",
    "            print('exception raised, waiting 15 minutes')\n",
    "            print('(until:', dt.datetime.now()+dt.timedelta(minutes=15), ')')\n",
    "            time.sleep(15*60)\n",
    "            break # stop the loop\n",
    "    return searched_tweets, max_id"
   ]
  },
  {
   "cell_type": "code",
   "execution_count": null,
   "metadata": {},
   "outputs": [],
   "source": [
    "def get_tweet_id(api, date='', days_ago=9, query='a'):\n",
    "    ''' Function that gets the ID of a tweet. This ID can then be\n",
    "        used as a 'starting point' from which to search. The query is\n",
    "        required and has been set to a commonly used word by default.\n",
    "        The variable 'days_ago' has been initialized to the maximum\n",
    "        amount we are able to search back in time (9).'''\n",
    "\n",
    "    if date:\n",
    "        # return an ID from the start of the given day\n",
    "        td = date + dt.timedelta(days=1)\n",
    "        tweet_date = '{0}-{1:0>2}-{2:0>2}'.format(td.year, td.month, td.day)\n",
    "        tweet = api.search(q=query, count=1, until=tweet_date)\n",
    "    else:\n",
    "        # return an ID from __ days ago\n",
    "        td = dt.datetime.now() - dt.timedelta(days=days_ago)\n",
    "        tweet_date = '{0}-{1:0>2}-{2:0>2}'.format(td.year, td.month, td.day)\n",
    "        # get list of up to 10 tweets\n",
    "        tweet = api.search(q=query, count=10, until=tweet_date)\n",
    "        print('search limit (start/stop):',tweet[0].created_at)\n",
    "        # return the id of the first tweet in the list\n",
    "        return tweet[0].id"
   ]
  },
  {
   "cell_type": "code",
   "execution_count": null,
   "metadata": {},
   "outputs": [],
   "source": [
    "def write_tweets(tweets, filename):\n",
    "    ''' Function that appends tweets to a file. '''\n",
    "\n",
    "    with open(filename, 'a') as f:\n",
    "        for tweet in tweets:\n",
    "            json.dump(tweet._json, f)\n",
    "            f.write('\\n')"
   ]
  },
  {
   "cell_type": "code",
   "execution_count": null,
   "metadata": {},
   "outputs": [],
   "source": [
    "def main():\n",
    "    ''' This is a script that continuously searches for tweets\n",
    "        that were created over a given number of days. The search\n",
    "        dates and search phrase can be changed below. '''\n",
    "\n",
    "\n",
    "\n",
    "    ''' search variables: '''\n",
    "    search_phrases = ['Stan Lee','StanLee','Stanley Martin Lieber']\n",
    "    time_limit = 1.5                           # runtime limit in hours\n",
    "    max_tweets = 100                           # number of tweets per search (will be\n",
    "                                               # iterated over) - maximum is 100\n",
    "    min_days_old, max_days_old = 7, 9          # search limits e.g., from 7 to 8\n",
    "                                               # gives current weekday from last week,\n",
    "                                               # min_days_old=0 will search from right now\n",
    "#     USA = '39.8,-95.583068847656,2500km'     # this geocode includes nearly all American\n",
    "                                               # states (and a large portion of Canada)\n",
    "# The issue here is a vast majority of the tweets are not geocoded and will therefore be excluded.\n",
    "    \n",
    "\n",
    "    # loop over search items,\n",
    "    # creating a new file for each\n",
    "    for search_phrase in search_phrases:\n",
    "\n",
    "        print('Search phrase =', search_phrase)\n",
    "\n",
    "        ''' other variables '''\n",
    "        name = search_phrase.split()[0]\n",
    "        json_file_root = name + '/'  + name\n",
    "        os.makedirs(os.path.dirname(json_file_root), exist_ok=True)\n",
    "        read_IDs = False\n",
    "        \n",
    "        # open a file in which to store the tweets\n",
    "        if max_days_old - min_days_old == 1:\n",
    "            d = dt.datetime.now() - dt.timedelta(days=min_days_old)\n",
    "            day = '{0}-{1:0>2}-{2:0>2}'.format(d.year, d.month, d.day)\n",
    "        else:\n",
    "            d1 = dt.datetime.now() - dt.timedelta(days=max_days_old-1)\n",
    "            d2 = dt.datetime.now() - dt.timedelta(days=min_days_old)\n",
    "            day = '{0}-{1:0>2}-{2:0>2}_to_{3}-{4:0>2}-{5:0>2}'.format(\n",
    "                  d1.year, d1.month, d1.day, d2.year, d2.month, d2.day)\n",
    "        json_file = json_file_root + '_' + day + '.json'\n",
    "        if os.path.isfile(json_file):\n",
    "            print('Appending tweets to file named: ',json_file)\n",
    "            read_IDs = True\n",
    "        \n",
    "        # authorize and load the twitter API\n",
    "        api = load_api()\n",
    "        \n",
    "        # set the 'starting point' ID for tweet collection\n",
    "        if read_IDs:\n",
    "            # open the json file and get the latest tweet ID\n",
    "            with open(json_file, 'r') as f:\n",
    "                lines = f.readlines()\n",
    "                max_id = json.loads(lines[-1])['id']\n",
    "                print('Searching from the bottom ID in file')\n",
    "        else:\n",
    "            # get the ID of a tweet that is min_days_old\n",
    "            if min_days_old == 0:\n",
    "                max_id = -1\n",
    "            else:\n",
    "                max_id = get_tweet_id(api, days_ago=(min_days_old-1))\n",
    "        # set the smallest ID to search for\n",
    "        since_id = get_tweet_id(api, days_ago=(max_days_old-1))\n",
    "        print('max id (starting point) =', max_id)\n",
    "        print('since id (ending point) =', since_id)\n",
    "        \n",
    "\n",
    "\n",
    "        ''' tweet gathering loop  '''\n",
    "        start = dt.datetime.now()\n",
    "        end = start + dt.timedelta(hours=time_limit)\n",
    "        count, exitcount = 0, 0\n",
    "        while dt.datetime.now() < end:\n",
    "            count += 1\n",
    "            print('count =',count)\n",
    "            # collect tweets and update max_id\n",
    "            tweets, max_id = tweet_search(api, search_phrase, max_tweets,\n",
    "                                          max_id=max_id, since_id=since_id,\n",
    "                                          geocode=USA)\n",
    "            # write tweets to file in JSON format\n",
    "            if tweets:\n",
    "                write_tweets(tweets, json_file)\n",
    "                exitcount = 0\n",
    "            else:\n",
    "                exitcount += 1\n",
    "                if exitcount == 3:\n",
    "                    if search_phrase == search_phrases[-1]:\n",
    "                        sys.exit('Maximum number of empty tweet strings reached - exiting')\n",
    "                    else:\n",
    "                        print('Maximum number of empty tweet strings reached - breaking')\n",
    "                        break\n",
    "                        \n",
    "if __name__ == \"__main__\":\n",
    "    main()"
   ]
  },
  {
   "cell_type": "markdown",
   "metadata": {},
   "source": [
    "After each call of tweet_search() in the main program, we append the new tweets to a file in JSON format. The resulting JSON file can easily (although not necessarily quickly) be read and converted to a Pandas dataframe for analysis.\n",
    "\n",
    "[This article explains the above steps and more in great detail](https://galeascience.wordpress.com/2016/03/18/collecting-twitter-data-with-python/)"
   ]
  },
  {
   "cell_type": "markdown",
   "metadata": {},
   "source": [
    "**After extracting and storing the relevant historical tweets, we perform simular operations for sentiment analysis as before**"
   ]
  },
  {
   "cell_type": "code",
   "execution_count": 1,
   "metadata": {},
   "outputs": [],
   "source": [
    "# Importing other packages\n",
    "import re\n",
    "from textblob import TextBlob as tb\n",
    "import json\n",
    "import numpy as np\n",
    "import pandas as pd\n",
    "from IPython.display import display\n",
    "import seaborn as sns\n",
    "import matplotlib.pyplot as plt\n",
    "%matplotlib inline"
   ]
  },
  {
   "cell_type": "code",
   "execution_count": 2,
   "metadata": {},
   "outputs": [],
   "source": [
    "tweets_data_path = 'C:/Users/Admin/Desktop/NLP Project/historical_twitter_data.txt'\n",
    "tweets_data = []\n",
    "\n",
    "tweets_file = open(tweets_data_path, \"r\")\n",
    "\n",
    "for line in tweets_file:\n",
    "    try:\n",
    "        tweet = json.loads(line)\n",
    "        tweets_data.append(tweet)\n",
    "    except:\n",
    "        continue"
   ]
  },
  {
   "cell_type": "markdown",
   "metadata": {},
   "source": [
    "Loaded approximately ~577746 tweets"
   ]
  },
  {
   "cell_type": "code",
   "execution_count": 7,
   "metadata": {},
   "outputs": [
    {
     "data": {
      "text/plain": [
       "{'fullname': 'Daniel Kajdas',\n",
       " 'html': '<p class=\"TweetTextSize js-tweet-text tweet-text\" data-aria-label-part=\"0\" lang=\"en\">Not enough room for all the super heroes on this board. <strong>Stan Lee</strong> taught me we can all be heroes and we are all super. Excelsior.  <a class=\"twitter-hashtag pretty-link js-nav\" data-query-source=\"hashtag_click\" dir=\"ltr\" href=\"/hashtag/ripstanlee?src=hash\"><s>#</s><b>ripstanlee</b></a><a class=\"twitter-timeline-link u-hidden\" data-pre-embedded=\"true\" dir=\"ltr\" href=\"https://t.co/EKFt2huPfw\">pic.twitter.com/EKFt2huPfw</a></p>',\n",
       " 'id': '1062069937764814853',\n",
       " 'likes': 2,\n",
       " 'replies': 0,\n",
       " 'retweets': 0,\n",
       " 'text': 'Not enough room for all the super heroes on this board. Stan Lee taught me we can all be heroes and we are all super. Excelsior.  #ripstanleepic.twitter.com/EKFt2huPfw',\n",
       " 'timestamp': '2018-11-12T19:49:40',\n",
       " 'url': '/98Dangrees/status/1062069937764814853',\n",
       " 'user': '98Dangrees'}"
      ]
     },
     "execution_count": 7,
     "metadata": {},
     "output_type": "execute_result"
    }
   ],
   "source": [
    "# Sample tweet\n",
    "tweets_data[571745]"
   ]
  },
  {
   "cell_type": "code",
   "execution_count": 8,
   "metadata": {},
   "outputs": [],
   "source": [
    "tweets = pd.DataFrame()\n",
    "tweets['text'] = list(map(lambda tweet: tweet['text'], tweets_data))\n",
    "#tweets['lang'] = list(map(lambda tweet: tweet['lang'], tweets_data))\n",
    "#tweets['country'] = list(map(lambda tweet: tweet['place']['country'] if tweet['place'] != None else None, tweets_data))"
   ]
  },
  {
   "cell_type": "code",
   "execution_count": 9,
   "metadata": {},
   "outputs": [],
   "source": [
    "# Getting other relevant information from tweet\n",
    "\n",
    "tweets['word_count'] = tweets['text'].apply(lambda x: len(str(x).split(\" \")))\n",
    "tweets['ID'] = list(map(lambda tweet: tweet['id'], tweets_data))\n",
    "#tweets['Location'] = list(map(lambda tweet: tweet['user']['location'], tweets_data))\n",
    "tweets['created_at'] = list(map(lambda tweet: tweet['timestamp'], tweets_data))\n",
    "#tweets['Source'] = list(map(lambda tweet: tweet['source'], tweets_data))\n",
    "tweets['Likes'] = list(map(lambda tweet: tweet['likes'], tweets_data))\n",
    "#tweets['RTs'] = list(map(lambda tweet: tweet['retweet_count'], tweets_data))"
   ]
  },
  {
   "cell_type": "code",
   "execution_count": 11,
   "metadata": {},
   "outputs": [
    {
     "data": {
      "text/html": [
       "<div>\n",
       "<style scoped>\n",
       "    .dataframe tbody tr th:only-of-type {\n",
       "        vertical-align: middle;\n",
       "    }\n",
       "\n",
       "    .dataframe tbody tr th {\n",
       "        vertical-align: top;\n",
       "    }\n",
       "\n",
       "    .dataframe thead th {\n",
       "        text-align: right;\n",
       "    }\n",
       "</style>\n",
       "<table border=\"1\" class=\"dataframe\">\n",
       "  <thead>\n",
       "    <tr style=\"text-align: right;\">\n",
       "      <th></th>\n",
       "      <th>text</th>\n",
       "      <th>word_count</th>\n",
       "      <th>ID</th>\n",
       "      <th>created_at</th>\n",
       "      <th>Likes</th>\n",
       "    </tr>\n",
       "  </thead>\n",
       "  <tbody>\n",
       "    <tr>\n",
       "      <th>0</th>\n",
       "      <td>@MoonsharkMobile I'm destroying Obliterators a...</td>\n",
       "      <td>11</td>\n",
       "      <td>1061770100515180544</td>\n",
       "      <td>2018-11-11T23:58:13</td>\n",
       "      <td>0</td>\n",
       "    </tr>\n",
       "    <tr>\n",
       "      <th>1</th>\n",
       "      <td>Mr stand let u r awesome sir king ur awesome t...</td>\n",
       "      <td>25</td>\n",
       "      <td>1061759677464276992</td>\n",
       "      <td>2018-11-11T23:16:48</td>\n",
       "      <td>0</td>\n",
       "    </tr>\n",
       "    <tr>\n",
       "      <th>2</th>\n",
       "      <td>Ohhhh a hard one uhhhh I'd pick Stan lee https...</td>\n",
       "      <td>10</td>\n",
       "      <td>1061759564213821440</td>\n",
       "      <td>2018-11-11T23:16:21</td>\n",
       "      <td>2</td>\n",
       "    </tr>\n",
       "    <tr>\n",
       "      <th>3</th>\n",
       "      <td>Trump needs to tone it down with this fandom o...</td>\n",
       "      <td>23</td>\n",
       "      <td>1061759422060548098</td>\n",
       "      <td>2018-11-11T23:15:47</td>\n",
       "      <td>0</td>\n",
       "    </tr>\n",
       "    <tr>\n",
       "      <th>4</th>\n",
       "      <td>WHY DID NO ONE TELL ME THAT STAN LEE WAS IN TH...</td>\n",
       "      <td>16</td>\n",
       "      <td>1061759281526198279</td>\n",
       "      <td>2018-11-11T23:15:13</td>\n",
       "      <td>1</td>\n",
       "    </tr>\n",
       "  </tbody>\n",
       "</table>\n",
       "</div>"
      ],
      "text/plain": [
       "                                                text  word_count  \\\n",
       "0  @MoonsharkMobile I'm destroying Obliterators a...          11   \n",
       "1  Mr stand let u r awesome sir king ur awesome t...          25   \n",
       "2  Ohhhh a hard one uhhhh I'd pick Stan lee https...          10   \n",
       "3  Trump needs to tone it down with this fandom o...          23   \n",
       "4  WHY DID NO ONE TELL ME THAT STAN LEE WAS IN TH...          16   \n",
       "\n",
       "                    ID           created_at  Likes  \n",
       "0  1061770100515180544  2018-11-11T23:58:13      0  \n",
       "1  1061759677464276992  2018-11-11T23:16:48      0  \n",
       "2  1061759564213821440  2018-11-11T23:16:21      2  \n",
       "3  1061759422060548098  2018-11-11T23:15:47      0  \n",
       "4  1061759281526198279  2018-11-11T23:15:13      1  "
      ]
     },
     "execution_count": 11,
     "metadata": {},
     "output_type": "execute_result"
    }
   ],
   "source": [
    "tweets.head()"
   ]
  },
  {
   "cell_type": "code",
   "execution_count": 12,
   "metadata": {},
   "outputs": [],
   "source": [
    "# Converting to datetime\n",
    "tweets['created_at'] = pd.to_datetime(tweets['created_at'])"
   ]
  },
  {
   "cell_type": "markdown",
   "metadata": {},
   "source": [
    "### EXPLORATORY DATA ANALYSIS"
   ]
  },
  {
   "cell_type": "code",
   "execution_count": 13,
   "metadata": {},
   "outputs": [
    {
     "data": {
      "text/plain": [
       "16.025834882456998"
      ]
     },
     "execution_count": 13,
     "metadata": {},
     "output_type": "execute_result"
    }
   ],
   "source": [
    "# Average word count\n",
    "tweets['word_count'].mean()"
   ]
  },
  {
   "cell_type": "code",
   "execution_count": 14,
   "metadata": {},
   "outputs": [
    {
     "data": {
      "text/plain": [
       "0                                   (-0.2, 0.0)\n",
       "1     (0.38571428571428573, 0.5071428571428571)\n",
       "2     (-0.2916666666666667, 0.5416666666666666)\n",
       "3    (-0.15555555555555559, 0.2888888888888889)\n",
       "4                                    (0.0, 0.0)\n",
       "Name: text, dtype: object"
      ]
     },
     "execution_count": 14,
     "metadata": {},
     "output_type": "execute_result"
    }
   ],
   "source": [
    "# Sentiment Analysis : showing first 5 tweets - before cleaning/processing data\n",
    "tweets['text'][:5].apply(lambda x: tb(x).sentiment)\n",
    "\n",
    "#returns a tuple representing polarity and subjectivity of each tweet. Here, we only extract polarity as it \n",
    "#indicates the sentiment as value nearer to 1 meaning a positive sentiment and values nearer to -1 meaning a negative sentiment."
   ]
  },
  {
   "cell_type": "code",
   "execution_count": 15,
   "metadata": {},
   "outputs": [
    {
     "name": "stdout",
     "output_type": "stream",
     "text": [
      "The tweet with more likes is: \n",
      "pic.twitter.com/dTdDjRvXbs\n",
      "Number of likes: 1813314\n"
     ]
    }
   ],
   "source": [
    "# Most liked tweet\n",
    "\n",
    "fav_max = np.max(tweets['Likes'])\n",
    "#rt_max  = np.max(tweets['RTs'])\n",
    "\n",
    "fav = tweets[tweets.Likes == fav_max].index[0]\n",
    "#rt  = tweets[tweets.RTs == rt_max].index[0]\n",
    "\n",
    "# Max FAVs:\n",
    "print(\"The tweet with more likes is: \\n{}\".format(tweets['text'][fav]))\n",
    "print(\"Number of likes: {}\".format(fav_max))\n",
    "\n",
    "# Max RTs:\n",
    "#print(\"The tweet with more retweets is: \\n{}\".format(tweets['text'][rt]))\n",
    "#print(\"Number of retweets: {}\".format(rt_max))"
   ]
  },
  {
   "cell_type": "code",
   "execution_count": 16,
   "metadata": {},
   "outputs": [
    {
     "name": "stdout",
     "output_type": "stream",
     "text": [
      "Saving '../svg_filter_pie.svg'\n"
     ]
    },
    {
     "data": {
      "image/png": "[encoded data removed]",
      "text/plain": [
       "<Figure size 720x432 with 1 Axes>"
      ]
     },
     "metadata": {
      "needs_background": "light"
     },
     "output_type": "display_data"
    }
   ],
   "source": [
    "# Creating a Time Series chart showing Number of Likes vs Created_at (Date)\n",
    "\n",
    "tfav = pd.Series(data=tweets['Likes'].values, index=tweets['created_at'])\n",
    "tfav.plot(figsize=(10,6), color='r')\n",
    "plt.yscale('log')\n",
    "plt.xlabel('Time', fontsize = 14)\n",
    "plt.ylabel(\"Likes (counts)\", fontsize = 14)\n",
    "#from io import BytesIO\n",
    "#f = BytesIO()\n",
    "plt.savefig('test.png', format=\"png\")"
   ]
  },
  {
   "cell_type": "markdown",
   "metadata": {},
   "source": [
    "- We can clearly see a spike in Twitters activity immediately following the death of Stan Lee"
   ]
  },
  {
   "cell_type": "code",
   "execution_count": 18,
   "metadata": {},
   "outputs": [
    {
     "data": {
      "text/html": [
       "<div>\n",
       "<style scoped>\n",
       "    .dataframe tbody tr th:only-of-type {\n",
       "        vertical-align: middle;\n",
       "    }\n",
       "\n",
       "    .dataframe tbody tr th {\n",
       "        vertical-align: top;\n",
       "    }\n",
       "\n",
       "    .dataframe thead th {\n",
       "        text-align: right;\n",
       "    }\n",
       "</style>\n",
       "<table border=\"1\" class=\"dataframe\">\n",
       "  <thead>\n",
       "    <tr style=\"text-align: right;\">\n",
       "      <th></th>\n",
       "      <th>text</th>\n",
       "      <th>word_count</th>\n",
       "      <th>ID</th>\n",
       "      <th>created_at</th>\n",
       "      <th>Likes</th>\n",
       "    </tr>\n",
       "  </thead>\n",
       "  <tbody>\n",
       "    <tr>\n",
       "      <th>459479</th>\n",
       "      <td>pic.twitter.com/dTdDjRvXbs</td>\n",
       "      <td>1</td>\n",
       "      <td>1062078268319268864</td>\n",
       "      <td>2018-11-12 20:22:46</td>\n",
       "      <td>1813314</td>\n",
       "    </tr>\n",
       "    <tr>\n",
       "      <th>193496</th>\n",
       "      <td>Thanks for everything Stan Lee! What a life, s...</td>\n",
       "      <td>33</td>\n",
       "      <td>1062123061397188609</td>\n",
       "      <td>2018-11-12 23:20:45</td>\n",
       "      <td>387175</td>\n",
       "    </tr>\n",
       "    <tr>\n",
       "      <th>550989</th>\n",
       "      <td>Today, we pause and reflect with great sadness...</td>\n",
       "      <td>15</td>\n",
       "      <td>1062071197343592448</td>\n",
       "      <td>2018-11-12 19:54:40</td>\n",
       "      <td>300787</td>\n",
       "    </tr>\n",
       "    <tr>\n",
       "      <th>555862</th>\n",
       "      <td>We’ve lost a creative genius. Stan Lee was a p...</td>\n",
       "      <td>40</td>\n",
       "      <td>1062070890358288388</td>\n",
       "      <td>2018-11-12 19:53:27</td>\n",
       "      <td>262331</td>\n",
       "    </tr>\n",
       "    <tr>\n",
       "      <th>341514</th>\n",
       "      <td>\"Stan Lee was racist\". pic.twitter.com/QmquV88tSa</td>\n",
       "      <td>5</td>\n",
       "      <td>1062091862796894208</td>\n",
       "      <td>2018-11-12 21:16:47</td>\n",
       "      <td>177090</td>\n",
       "    </tr>\n",
       "  </tbody>\n",
       "</table>\n",
       "</div>"
      ],
      "text/plain": [
       "                                                     text  word_count  \\\n",
       "459479                         pic.twitter.com/dTdDjRvXbs           1   \n",
       "193496  Thanks for everything Stan Lee! What a life, s...          33   \n",
       "550989  Today, we pause and reflect with great sadness...          15   \n",
       "555862  We’ve lost a creative genius. Stan Lee was a p...          40   \n",
       "341514  \"Stan Lee was racist\". pic.twitter.com/QmquV88tSa           5   \n",
       "\n",
       "                         ID          created_at    Likes  \n",
       "459479  1062078268319268864 2018-11-12 20:22:46  1813314  \n",
       "193496  1062123061397188609 2018-11-12 23:20:45   387175  \n",
       "550989  1062071197343592448 2018-11-12 19:54:40   300787  \n",
       "555862  1062070890358288388 2018-11-12 19:53:27   262331  \n",
       "341514  1062091862796894208 2018-11-12 21:16:47   177090  "
      ]
     },
     "execution_count": 18,
     "metadata": {},
     "output_type": "execute_result"
    }
   ],
   "source": [
    "# Table showing Location for top 15 tweets in terms of number of Likes\n",
    "top_likes=pd.DataFrame(tweets.nlargest(15, 'Likes'))\n",
    "top_likes.head()"
   ]
  },
  {
   "cell_type": "code",
   "execution_count": 19,
   "metadata": {},
   "outputs": [
    {
     "name": "stdout",
     "output_type": "stream",
     "text": [
      "pic.twitter.com/dTdDjRvXbs\n",
      "Thanks for everything Stan Lee! What a life, so well lived. I consider myself extraordinarily lucky to have gotten to meet you and to have played in the world you created. \n",
      " pic.twitter.com/ryUjG7PL8D\n",
      "Today, we pause and reflect with great sadness on the passing of Stan Lee: https://www.marvel.com/remembering_stan_lee …pic.twitter.com/eOBdZAqdZ0\n",
      "We’ve lost a creative genius. Stan Lee was a pioneering force in the superhero universe. I’m proud to have been a small part of his legacy and .... to have helped bring one of his characters to life. #StanLee #Wolverinepic.twitter.com/iOdefi7iYz\n",
      "\"Stan Lee was racist\". pic.twitter.com/QmquV88tSa\n",
      "Born before Edwin Hubble discovered the expanding universe, he ultimately created an expanding universe of his own - one of scientifically literate superheroes such as Spider-Man , The Hulk, Iron Man, & Black Panther.\n",
      "Stan Lee RIP: 1922 - 2018\n",
      "RIP my friend. Thank you for the incredible adventures your stories took all of us on. My love and support goes out to all your friends and family #stanlee #legendpic.twitter.com/pTGY8Ffieg\n",
      "Thank you @TheRealStanLee for the escape from this world & great joy inhabiting the ones you created!! You made so many believe in the good, the heroic, the villainous, the exciting, most of all, you were giving & gracious to us all. RIP\n",
      "7 minutes of all Stan Lee's cameo in every Marvel movie from 2008 - 2017. he will forever be missed pic.twitter.com/14fi1GdONX\n",
      "“No one has had more of an impact on my career and everything we do at Marvel Studios than Stan Lee. Stan leaves an extraordinary legacy that will outlive us all. Our thoughts are with his daughter, his family, and his millions of fans.  #ThankYouStan #Excelsior!”\n",
      "-@Kevfeigepic.twitter.com/s4Kmt6Rn5J\n"
     ]
    }
   ],
   "source": [
    "# Top liked tweets\n",
    "for i in top_likes.head(10)['text']:\n",
    "    print (i)"
   ]
  },
  {
   "cell_type": "markdown",
   "metadata": {},
   "source": [
    "### SENTIMENT ANALYSIS"
   ]
  },
  {
   "cell_type": "markdown",
   "metadata": {},
   "source": [
    "Data cleaning/ Pre-processing"
   ]
  },
  {
   "cell_type": "code",
   "execution_count": 20,
   "metadata": {},
   "outputs": [],
   "source": [
    "# Importing nltk, re packages for preprocessing tweets\n",
    "import nltk\n",
    "#import re\n",
    "from nltk.corpus import stopwords\n",
    "\n",
    "stop = stopwords.words('english')"
   ]
  },
  {
   "cell_type": "code",
   "execution_count": 21,
   "metadata": {},
   "outputs": [
    {
     "data": {
      "text/plain": [
       "Stan    396785\n",
       "Lee     239532\n",
       "the     163410\n",
       "a       161754\n",
       "to      120097\n",
       "and     116988\n",
       "of      105730\n",
       "de      100459\n",
       "…        95319\n",
       "you      93276\n",
       "dtype: int64"
      ]
     },
     "execution_count": 21,
     "metadata": {},
     "output_type": "execute_result"
    }
   ],
   "source": [
    "# 10 most common words before preprocessising\n",
    "freq = pd.Series(' '.join(tweets['text']).split()).value_counts()[:10]\n",
    "freq"
   ]
  },
  {
   "cell_type": "code",
   "execution_count": 22,
   "metadata": {},
   "outputs": [],
   "source": [
    "# function to preprocess dataset\n",
    "def preprocess(text_data):\n",
    "    preprocessed_text=[]\n",
    "    for text in text_data:\n",
    "        #regext to remove RT retweets\n",
    "        text=re.sub('RT',\" \",text)\n",
    "        #regex to remove punctuations,hashtags,@usermentions,URLs and convert to lowercase\n",
    "        text=re.sub(\"(@[A-Za-z0-9]+)|([^0-9A-Za-z \\t])|(\\w+:\\/\\/\\S+)\",\" \",text).lower()\n",
    "        #regex to remove numbers\n",
    "        text=re.sub(\"\\d+\", \" \", text)\n",
    "        preprocessed_text.append(text)\n",
    "    return preprocessed_text"
   ]
  },
  {
   "cell_type": "code",
   "execution_count": 23,
   "metadata": {},
   "outputs": [],
   "source": [
    "tweets_text=tweets['text'].tolist()\n",
    "preprocessed_set=preprocess(tweets_text)"
   ]
  },
  {
   "cell_type": "code",
   "execution_count": 24,
   "metadata": {},
   "outputs": [
    {
     "data": {
      "text/plain": [
       "0                 destroying obliterators saving world\n",
       "1    mr stand let u r awesome sir king ur awesome t...\n",
       "2                   ohhhh hard one uhhhh pick stan lee\n",
       "3    trump needs tone fandom putin like geek comicc...\n",
       "4    one tell stan lee princess diaries pic twitter...\n",
       "Name: text, dtype: object"
      ]
     },
     "execution_count": 24,
     "metadata": {},
     "output_type": "execute_result"
    }
   ],
   "source": [
    "# removing stop words\n",
    "processed_text = pd.Series(preprocessed_set)\n",
    "tweets['text'] = processed_text.apply(lambda x: \" \".join(x for x in x.split() if x not in stop))\n",
    "tweets['text'].head()"
   ]
  },
  {
   "cell_type": "code",
   "execution_count": 25,
   "metadata": {},
   "outputs": [
    {
     "data": {
      "text/plain": [
       "stan       480543\n",
       "lee        470564\n",
       "com        129382\n",
       "twitter    125904\n",
       "rip        114782\n",
       "de         104060\n",
       "pic         93437\n",
       "marvel      90626\n",
       "stanlee     87828\n",
       "que         61752\n",
       "dtype: int64"
      ]
     },
     "execution_count": 25,
     "metadata": {},
     "output_type": "execute_result"
    }
   ],
   "source": [
    "# common words after general/basic preprocessing\n",
    "freq = pd.Series(' '.join(tweets['text']).split()).value_counts()[:10]\n",
    "freq"
   ]
  },
  {
   "cell_type": "code",
   "execution_count": 26,
   "metadata": {},
   "outputs": [],
   "source": [
    "# common words removal\n",
    "freq = list(freq.index)\n",
    "tweets['text'] = tweets['text'].apply(lambda x: \" \".join(x for x in x.split() if x not in freq))\n",
    "#tweets['text'].head()"
   ]
  },
  {
   "cell_type": "code",
   "execution_count": 27,
   "metadata": {},
   "outputs": [
    {
     "data": {
      "text/plain": [
       "vuoooycjnh    1\n",
       "eqcltgfejj    1\n",
       "avorio        1\n",
       "khwtgzjdqm    1\n",
       "oplyz         1\n",
       "kqdpjt        1\n",
       "khbl          1\n",
       "pertorie      1\n",
       "oalbfejzdh    1\n",
       "ssrnoiixz     1\n",
       "dtype: int64"
      ]
     },
     "execution_count": 27,
     "metadata": {},
     "output_type": "execute_result"
    }
   ],
   "source": [
    "# displaying rare words\n",
    "freq = pd.Series(' '.join(tweets['text']).split()).value_counts()[-10:]\n",
    "freq"
   ]
  },
  {
   "cell_type": "code",
   "execution_count": 28,
   "metadata": {},
   "outputs": [],
   "source": [
    "# removing rare words\n",
    "freq = list(freq.index)\n",
    "tweets['text'] = tweets['text'].apply(lambda x: \" \".join(x for x in x.split() if x not in freq))\n",
    "#tweets['text'].head()"
   ]
  },
  {
   "cell_type": "code",
   "execution_count": 29,
   "metadata": {},
   "outputs": [],
   "source": [
    "tweets_text=tweets['text'].tolist()"
   ]
  },
  {
   "cell_type": "code",
   "execution_count": 30,
   "metadata": {},
   "outputs": [],
   "source": [
    "def tokenizeit(text_data):\n",
    "    tokenized_text=[]\n",
    "    for text in text_data:\n",
    "        #tokenize the text\n",
    "        tokenized=nltk.word_tokenize(text)\n",
    "        #remove stop words\n",
    "        tokenized_text.append(\" \".join(list(x for x in tokenized if x not in stop)))\n",
    "    return tokenized_text"
   ]
  },
  {
   "cell_type": "code",
   "execution_count": 31,
   "metadata": {},
   "outputs": [
    {
     "data": {
      "text/plain": [
       "['destroying obliterators saving world',\n",
       " 'mr stand let u r awesome sir king ur awesome turkey sir wait lol excuse writing sir big fan well small haha',\n",
       " 'ohhhh hard one uhhhh pick',\n",
       " 'trump needs tone fandom putin like geek comiccon geeking meeting',\n",
       " 'one tell princess diaries dsen ywer']"
      ]
     },
     "execution_count": 31,
     "metadata": {},
     "output_type": "execute_result"
    }
   ],
   "source": [
    "tokenized_tweets=tokenizeit(tweets_text)\n",
    "tokenized_tweets[:5]"
   ]
  },
  {
   "cell_type": "code",
   "execution_count": 32,
   "metadata": {},
   "outputs": [
    {
     "data": {
      "text/plain": [
       "['destroying obliterator saving world',\n",
       " 'mr stand let u r awesome sir king ur awesome turkey sir wait lol excuse writing sir big fan well small haha',\n",
       " 'ohhhh hard one uhhhh pick',\n",
       " 'trump need tone fandom putin like geek comiccon geeking meeting',\n",
       " 'one tell princess diary dsen ywer']"
      ]
     },
     "execution_count": 32,
     "metadata": {},
     "output_type": "execute_result"
    }
   ],
   "source": [
    "# Lemmatization\n",
    "from nltk.stem import wordnet\n",
    "from nltk.stem import WordNetLemmatizer\n",
    "word_lem=WordNetLemmatizer()\n",
    "tweets_cleaned = [\" \".join(word_lem.lemmatize(token) for token in sentence.split(\" \")) for sentence in tokenized_tweets]\n",
    "tweets_cleaned[:5]"
   ]
  },
  {
   "cell_type": "code",
   "execution_count": 33,
   "metadata": {},
   "outputs": [
    {
     "data": {
      "text/html": [
       "<div>\n",
       "<style scoped>\n",
       "    .dataframe tbody tr th:only-of-type {\n",
       "        vertical-align: middle;\n",
       "    }\n",
       "\n",
       "    .dataframe tbody tr th {\n",
       "        vertical-align: top;\n",
       "    }\n",
       "\n",
       "    .dataframe thead th {\n",
       "        text-align: right;\n",
       "    }\n",
       "</style>\n",
       "<table border=\"1\" class=\"dataframe\">\n",
       "  <thead>\n",
       "    <tr style=\"text-align: right;\">\n",
       "      <th></th>\n",
       "      <th>text</th>\n",
       "      <th>sentiment</th>\n",
       "    </tr>\n",
       "  </thead>\n",
       "  <tbody>\n",
       "    <tr>\n",
       "      <th>0</th>\n",
       "      <td>destroying obliterators saving world</td>\n",
       "      <td>-0.200000</td>\n",
       "    </tr>\n",
       "    <tr>\n",
       "      <th>1</th>\n",
       "      <td>mr stand let u r awesome sir king ur awesome t...</td>\n",
       "      <td>0.385714</td>\n",
       "    </tr>\n",
       "    <tr>\n",
       "      <th>2</th>\n",
       "      <td>ohhhh hard one uhhhh pick</td>\n",
       "      <td>-0.291667</td>\n",
       "    </tr>\n",
       "    <tr>\n",
       "      <th>3</th>\n",
       "      <td>trump needs tone fandom putin like geek comicc...</td>\n",
       "      <td>0.000000</td>\n",
       "    </tr>\n",
       "    <tr>\n",
       "      <th>4</th>\n",
       "      <td>one tell princess diaries dsen ywer</td>\n",
       "      <td>0.000000</td>\n",
       "    </tr>\n",
       "  </tbody>\n",
       "</table>\n",
       "</div>"
      ],
      "text/plain": [
       "                                                text  sentiment\n",
       "0               destroying obliterators saving world  -0.200000\n",
       "1  mr stand let u r awesome sir king ur awesome t...   0.385714\n",
       "2                          ohhhh hard one uhhhh pick  -0.291667\n",
       "3  trump needs tone fandom putin like geek comicc...   0.000000\n",
       "4                one tell princess diaries dsen ywer   0.000000"
      ]
     },
     "execution_count": 33,
     "metadata": {},
     "output_type": "execute_result"
    }
   ],
   "source": [
    "processed_tweets = pd.Series(tweets_cleaned)\n",
    "\n",
    "# Sentiment analysis\n",
    "tweets['sentiment'] = processed_tweets.apply(lambda x: tb(x).sentiment[0] )\n",
    "tweets[['text','sentiment']].head()"
   ]
  },
  {
   "cell_type": "code",
   "execution_count": 34,
   "metadata": {},
   "outputs": [],
   "source": [
    "# We construct lists with classified tweets:\n",
    "\n",
    "pos_tweets = [ tweet for index, tweet in enumerate(tweets['text']) if tweets['sentiment'][index] > 0]\n",
    "neu_tweets = [ tweet for index, tweet in enumerate(tweets['text']) if tweets['sentiment'][index] == 0]\n",
    "neg_tweets = [ tweet for index, tweet in enumerate(tweets['text']) if tweets['sentiment'][index] < 0]"
   ]
  },
  {
   "cell_type": "code",
   "execution_count": 35,
   "metadata": {},
   "outputs": [
    {
     "name": "stdout",
     "output_type": "stream",
     "text": [
      "Percentage of positive tweets: 32.2408117061823%\n",
      "Percentage of neutral tweets: 59.782672662381046%\n",
      "Percentage de negative tweets: 7.976515631436652%\n"
     ]
    }
   ],
   "source": [
    "# We print percentages:\n",
    "\n",
    "print(\"Percentage of positive tweets: {}%\".format(len(pos_tweets)*100/len(tweets['text'])))\n",
    "print(\"Percentage of neutral tweets: {}%\".format(len(neu_tweets)*100/len(tweets['text'])))\n",
    "print(\"Percentage de negative tweets: {}%\".format(len(neg_tweets)*100/len(tweets['text'])))"
   ]
  },
  {
   "cell_type": "code",
   "execution_count": 38,
   "metadata": {},
   "outputs": [
    {
     "data": {
      "image/png": "[encoded data removed]",
      "text/plain": [
       "<Figure size 432x288 with 1 Axes>"
      ]
     },
     "metadata": {},
     "output_type": "display_data"
    }
   ],
   "source": [
    "# Data to plot\n",
    "labels = 'Postive', 'Neutral', 'Negative'\n",
    "sizes = [(len(pos_tweets)/len(tweets['text'])),(len(neu_tweets)/len(tweets['text'])),(len(neg_tweets)/len(tweets['text']))]\n",
    "colors = ['green', 'red', 'lightcoral']\n",
    "explode = (0.1, 0, 0)  # explode 1st slice\n",
    " \n",
    "# Plot\n",
    "plt.pie(sizes, explode=explode, labels=labels, colors=colors,\n",
    "        autopct='%1.1f%%', shadow=True, startangle=140)\n",
    " \n",
    "plt.axis('equal')\n",
    "#plt.show()\n",
    "plt.savefig('test1.png', format=\"png\")"
   ]
  },
  {
   "cell_type": "code",
   "execution_count": null,
   "metadata": {},
   "outputs": [],
   "source": []
  }
 ],
 "metadata": {
  "kernelspec": {
   "display_name": "Python 3",
   "language": "python",
   "name": "python3"
  },
  "language_info": {
   "codemirror_mode": {
    "name": "ipython",
    "version": 3
   },
   "file_extension": ".py",
   "mimetype": "text/x-python",
   "name": "python",
   "nbconvert_exporter": "python",
   "pygments_lexer": "ipython3",
   "version": "3.6.7"
  }
 },
 "nbformat": 4,
 "nbformat_minor": 2
}
